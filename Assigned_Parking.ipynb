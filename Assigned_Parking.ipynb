{
 "cells": [
  {
   "cell_type": "markdown",
   "id": "3c13fefb-3e7f-4bb4-b39f-d79012bfb4a7",
   "metadata": {},
   "source": [
    "# Assigned Parking ( InstaDeep Coding Interview For Research Internship )"
   ]
  },
  {
   "cell_type": "code",
   "execution_count": 43,
   "id": "0988184f-11d0-4d36-b250-c1d6b7696db2",
   "metadata": {},
   "outputs": [
    {
     "name": "stdout",
     "output_type": "stream",
     "text": [
      "X :  \u001b[34m[4, 6, 4, -4, 1]\u001b[0m\n",
      "Y :  \u001b[34m[-1, 1, -5, -4, 5]\u001b[0m\n",
      "Le Centre De Gravité Du Nuage Des Points Est :  \u001b[34m(2, -1)\u001b[0m\n",
      "Le Minimum Fuel Est :  \u001b[34m23\u001b[0m\n"
     ]
    }
   ],
   "source": [
    "#!/bin/python3\n",
    "from termcolor import colored\n",
    "import math\n",
    "import os\n",
    "import random\n",
    "import re\n",
    "import sys\n",
    "from itertools import permutations, product, combinations\n",
    "\n",
    "def calcul_centre_gravité(x,y):\n",
    "    x_mean = sum(x)/len(x)\n",
    "    y_mean = sum(y)/len(y)\n",
    "    return((round(x_mean),round(y_mean)))\n",
    "\n",
    "\n",
    "def mov_possible(x_mean,y_mean,n):\n",
    "  \n",
    "    l = [(i, y_mean) for i in range( x_mean-n-1, x_mean+n+1)]\n",
    "    return(l)\n",
    "def distance(x, y, xx, yy):\n",
    "    return(abs(x-xx)+abs(y-yy))\n",
    "   \n",
    "def minFuel(x, y):\n",
    "    # Write your code here\n",
    "    print(\"X : \", colored(f\"{x}\",\"blue\"))\n",
    "    print(\"Y : \", colored(f\"{y}\",\"blue\"))\n",
    "    (x_mean,y_mean) = calcul_centre_gravité(x,y)\n",
    "    n = len(x)\n",
    "    l = []\n",
    "    \n",
    "    print(\"Le Centre De Gravité Du Nuage Des Points Est : \",colored(f\"{(x_mean,y_mean)}\", \"blue\"))\n",
    "    mov = mov_possible(x_mean,y_mean,n)\n",
    "    \n",
    "    temp = list(permutations(mov,n)) # all the possible cases to place the cars \n",
    "\n",
    "    for t in temp:\n",
    "        \n",
    "        hh = []  #hh is the list that will contain all the possible fuel consommation (optimal ones) \n",
    "        \n",
    "        list_alligned = [] # To check if the cars are aligned or not (start)\n",
    "        \n",
    "        alligned = False\n",
    "        \n",
    "        \n",
    "        for j in range(n):\n",
    "            list_alligned.append(t[j][0])\n",
    "        list_alligned.sort()\n",
    "        \n",
    "        for i in range(len(list_alligned)-1):\n",
    "            if(list_alligned[i] == list_alligned[i+1]-1):\n",
    "                alligned = True\n",
    "            else:\n",
    "                alligned = False\n",
    "                break\n",
    "            \n",
    "        if(alligned): # To check if the cars are aligned or not(end)\n",
    "            for i in range(n):\n",
    "\n",
    "                xx = x[i] \n",
    "                yy = y[i]\n",
    "                hh.append(distance(t[i][0],t[i][1],xx,yy))\n",
    "            \n",
    "            l.append(sum(hh))\n",
    "    \n",
    "    \n",
    "    print(\"Le Minimum Fuel Est : \", colored(f\"{min(l)}\", \"blue\"))\n",
    "    \n",
    "    return(min(l))\n",
    "\n",
    "if __name__ == '__main__':\n",
    "    \n",
    "    # The Tests Given :\n",
    "    \n",
    "    \n",
    "    x = [4, 6, 4, -4, 1]\n",
    "    y = [-1, 1, -5, -4, 5]\n",
    "    # True Result : 23\n",
    "\n",
    "    #x = [1,5]\n",
    "    #y = [1,5]\n",
    "    # True Result : 7\n",
    "    \n",
    "    #x = [1,4]\n",
    "    #y = [1,4]\n",
    "    # True Result : 5\n",
    "\n",
    "    result = minFuel(x, y)"
   ]
  },
  {
   "cell_type": "code",
   "execution_count": 34,
   "id": "7ddfdb3a-516b-47f9-ae73-32a6fb5ca071",
   "metadata": {},
   "outputs": [
    {
     "data": {
      "image/png": "[encoded data removed]",
      "text/plain": [
       "<Figure size 432x288 with 1 Axes>"
      ]
     },
     "metadata": {
      "needs_background": "light"
     },
     "output_type": "display_data"
    }
   ],
   "source": [
    "import matplotlib.pyplot as plt\n",
    "plt.scatter(x,y)\n",
    "t = ((1, 3), (4, 3))\n",
    "plt.scatter(3,3)\n",
    "plt.scatter(t[0][0],t[0][1])\n",
    "plt.scatter(t[1][0],t[1][1])\n",
    "\n",
    "plt.grid()\n",
    "plt.xlim([0, 6])\n",
    "plt.ylim([0, 6])\n",
    "t = ((1, 3), (4, 3))\n",
    "#2\n",
    "#3"
   ]
  },
  {
   "cell_type": "code",
   "execution_count": 97,
   "id": "b5275ce3-dabc-46ff-a69f-b59b926ee7bb",
   "metadata": {},
   "outputs": [
    {
     "data": {
      "image/png": "[encoded data removed]",
      "text/plain": [
       "<Figure size 432x288 with 1 Axes>"
      ]
     },
     "metadata": {
      "needs_background": "light"
     },
     "output_type": "display_data"
    }
   ],
   "source": [
    "x = [4, 6, 4, -4, 1]\n",
    "y = [-1, 1, -5, -4, 5]\n",
    "import matplotlib.pyplot as plt\n",
    "plt.scatter([4, 6, 4, -4, 1],[-1, 1, -5, -4, 5])\n",
    "\n",
    "plt.scatter(2,-1)\n",
    "\n",
    "plt.grid()\n",
    "x_ = [2,3,4,5,6]\n",
    "y_ = [-1,-1,-1,-1,-1]\n",
    "plt.scatter(x_,y_)\n",
    "plt.xlim([-5, 7])\n",
    "plt.ylim([-5, 7])\n",
    "t = ((1, 3), (4, 3))\n",
    "#2\n",
    "#3"
   ]
  },
  {
   "cell_type": "code",
   "execution_count": null,
   "id": "8bd4b2fd-7e99-4d0f-a563-6d894759b9f7",
   "metadata": {},
   "outputs": [],
   "source": []
  },
  {
   "cell_type": "code",
   "execution_count": null,
   "id": "71c193be-7e39-4105-8d7a-d4fcb21b6187",
   "metadata": {},
   "outputs": [],
   "source": []
  }
 ],
 "metadata": {
  "kernelspec": {
   "display_name": "Python 3 (ipykernel)",
   "language": "python",
   "name": "python3"
  },
  "language_info": {
   "codemirror_mode": {
    "name": "ipython",
    "version": 3
   },
   "file_extension": ".py",
   "mimetype": "text/x-python",
   "name": "python",
   "nbconvert_exporter": "python",
   "pygments_lexer": "ipython3",
   "version": "3.9.12"
  }
 },
 "nbformat": 4,
 "nbformat_minor": 5
}
